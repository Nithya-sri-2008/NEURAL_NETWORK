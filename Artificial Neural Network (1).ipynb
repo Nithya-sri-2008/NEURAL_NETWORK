{
 "cells": [
  {
   "cell_type": "markdown",
   "id": "9fa6296c-43bb-4b96-8081-73b2bb36dbc4",
   "metadata": {},
   "source": [
    "### Implementation of Neural Network from scratch"
   ]
  },
  {
   "cell_type": "code",
   "execution_count": 215,
   "id": "a2b58ae4-b827-496a-901c-1efa2098f3b2",
   "metadata": {},
   "outputs": [],
   "source": [
    "a=[0,0,1,1,0,0,\n",
    "   0,1,0,0,1,0,\n",
    "   1,1,1,1,1,1,\n",
    "   1,0,0,0,0,1,\n",
    "   1,0,0,0,0,1]"
   ]
  },
  {
   "cell_type": "code",
   "execution_count": 216,
   "id": "76ad28eb-7ab0-414e-878a-c986f703d733",
   "metadata": {},
   "outputs": [],
   "source": [
    "b=[0,1,1,1,1,0,\n",
    "   0,1,0,0,1,0,\n",
    "   0,1,1,1,1,0,\n",
    "   0,1,0,0,1,0,\n",
    "   0,1,1,1,1,0]"
   ]
  },
  {
   "cell_type": "code",
   "execution_count": 262,
   "id": "20091f39-b37b-451a-b1e5-81f3cb516d80",
   "metadata": {},
   "outputs": [],
   "source": [
    "c=[0,1,1,1,1,1,\n",
    "   0,1,0,0,0,0,\n",
    "   0,1,0,0,0,0,\n",
    "   0,1,0,0,0,0,\n",
    "   0,1,1,1,1,1]"
   ]
  },
  {
   "cell_type": "code",
   "execution_count": 264,
   "id": "ccfb8af8-2eab-4127-8fc1-2b6ab52708eb",
   "metadata": {},
   "outputs": [],
   "source": [
    "#creating Labels\n",
    "y=[[1,0,0],\n",
    "   [0,1,0],\n",
    "   [0,0,1]]\n",
    "   "
   ]
  },
  {
   "cell_type": "code",
   "execution_count": 266,
   "id": "575c9729-9df8-4a8e-b39e-6d7aa2d7770b",
   "metadata": {},
   "outputs": [],
   "source": [
    "import numpy as np\n",
    "import matplotlib.pyplot as plt"
   ]
  },
  {
   "cell_type": "code",
   "execution_count": 302,
   "id": "8ba46dc9-69e6-4a3e-9b13-19663e5a2dc6",
   "metadata": {},
   "outputs": [
    {
     "data": {
      "image/png": "[encoded data removed]",
      "text/plain": [
       "<Figure size 640x480 with 1 Axes>"
      ]
     },
     "metadata": {},
     "output_type": "display_data"
    }
   ],
   "source": [
    "plt.imshow(np.array(a).reshape(5,6))\n",
    "plt.show()"
   ]
  },
  {
   "cell_type": "code",
   "execution_count": 270,
   "id": "c16fbd60-8bad-4702-9d3f-caaca537cc4e",
   "metadata": {},
   "outputs": [
    {
     "name": "stdout",
     "output_type": "stream",
     "text": [
      "[array([[0, 0, 1, 1, 0, 0, 0, 1, 0, 0, 1, 0, 1, 1, 1, 1, 1, 1, 1, 0, 0, 0,\n",
      "        0, 1, 1, 0, 0, 0, 0, 1]]), array([[0, 1, 1, 1, 1, 0, 0, 1, 0, 0, 1, 0, 0, 1, 1, 1, 1, 0, 0, 1, 0, 0,\n",
      "        1, 0, 0, 1, 1, 1, 1, 0]]), array([[0, 1, 1, 1, 1, 1, 0, 1, 0, 0, 0, 0, 0, 1, 0, 0, 0, 0, 0, 1, 0, 0,\n",
      "        0, 0, 0, 1, 1, 1, 1, 1]])] \n",
      "\n",
      " [[1 0 0]\n",
      " [0 1 0]\n",
      " [0 0 1]]\n"
     ]
    }
   ],
   "source": [
    "#convert data labels into numpy array\n",
    "x=[np.array(a).reshape(1,30),np.array(b).reshape(1,30),np.array(c).reshape(1,30)]\n",
    "y=np.array(y)\n",
    "print(x,\"\\n\\n\",y)"
   ]
  },
  {
   "cell_type": "code",
   "execution_count": 272,
   "id": "355f20df-a948-42ed-b4ef-3f83af7cbc52",
   "metadata": {},
   "outputs": [],
   "source": [
    "#Avtivation function \n",
    "# ~input layer-(1,30)\n",
    "# ~hidden layer-(1,5)\n",
    "# ~output layer-(3,3)"
   ]
  },
  {
   "cell_type": "code",
   "execution_count": 274,
   "id": "d971dec7-99c6-4978-955c-0796ea32cadb",
   "metadata": {},
   "outputs": [],
   "source": [
    "def sigmoid(x):\n",
    "    return(1/(1+np.exp(-x))) #formula for sigmoid"
   ]
  },
  {
   "cell_type": "code",
   "execution_count": 276,
   "id": "64391bf9-0dda-480e-ae71-28af4d39c2db",
   "metadata": {},
   "outputs": [],
   "source": [
    "#forward propagation\n",
    "def f_forward(x,w1,w2):\n",
    "    #hidden layer \n",
    "    z1=x.dot(w1)\n",
    "    a1=sigmoid(z1)\n",
    "    #output layer\n",
    "    z2=a1.dot(w2)\n",
    "    a2=sigmoid(z2)\n",
    "    return(a2)"
   ]
  },
  {
   "cell_type": "code",
   "execution_count": 278,
   "id": "44c1990d-2653-4132-807e-939265cb2ebc",
   "metadata": {},
   "outputs": [],
   "source": [
    "# initialize the weights\n",
    "def generate_wt(x,y):\n",
    "    l=[]\n",
    "    for i in range(x*y):\n",
    "        l.append(np.random.randn())\n",
    "    return (np.array(l).reshape(x,y))"
   ]
  },
  {
   "cell_type": "code",
   "execution_count": 280,
   "id": "525d26a2-c840-451d-aa13-63daecaf1c24",
   "metadata": {},
   "outputs": [],
   "source": [
    "#function for loss\n",
    "def loss(out,y):\n",
    "    s=(np.square(out-y))\n",
    "    s=np.sum(s)/len(y)\n",
    "    return(s)"
   ]
  },
  {
   "cell_type": "code",
   "execution_count": 282,
   "id": "1875f89a-cb61-4cbb-b6a6-804452a67f7f",
   "metadata": {},
   "outputs": [],
   "source": [
    "#back propagation\n",
    "def back_prop(x,y,w1,w2,alpha):\n",
    "    #hidden layer\n",
    "    z1=x.dot(w1)\n",
    "    a1=sigmoid(z1)\n",
    "    \n",
    "    #output layer\n",
    "    z2=a1.dot(w2)\n",
    "    a2=sigmoid(z2)\n",
    "    d2=(a2-y)\n",
    "    d1=np.multiply((w2.dot((d2.transpose()))).transpose(),(np.multiply(a1,1-a1)))\n",
    "    \n",
    "    #gradient\n",
    "    \n",
    "    w1_adj=x.transpose().dot(d1)\n",
    "    w2_adj=a1.transpose().dot(d2)\n",
    "    w1=w1-(alpha*(w1_adj))\n",
    "    w2=w2-(alpha*(w2_adj))\n",
    "    return(w1,w2)"
   ]
  },
  {
   "cell_type": "code",
   "execution_count": 284,
   "id": "7bdb1e65-ac37-4262-81dd-fcef78bb5fe2",
   "metadata": {},
   "outputs": [],
   "source": [
    "#training \n",
    "def train(x,y,w1,w2,alpha=0.01,epoch=10):\n",
    "    acc=[]\n",
    "    losses=[]\n",
    "    for j in range(epoch):\n",
    "        l=[]\n",
    "        for i in range(len(x)):\n",
    "            out=f_forward(x[i],w1,w2)\n",
    "            l.append(loss(out, y[i]))  \n",
    "            w1,w2=back_prop(x[i],y[i],w1,w2,alpha)\n",
    "        print(\"Epochs:\",j+1,\"acc\",(1-(sum(l)/len(x)))*100)\n",
    "        acc.append((1-(sum(l)/len(x)))*100)\n",
    "        losses.append(sum(l)/len(x))\n",
    "    return(acc,losses,w1,w2)"
   ]
  },
  {
   "cell_type": "code",
   "execution_count": 286,
   "id": "34ddeb97-4cb1-4dbc-8049-37eceb7f54d6",
   "metadata": {},
   "outputs": [],
   "source": [
    "#prediction\n",
    "def predict(x,w1,w2):\n",
    "    out=f_forward(x,w1,w2)\n",
    "    maxm=0\n",
    "    k=0\n",
    "    for i in range(len(out[0])):\n",
    "        if(maxm<out[0][i]):\n",
    "            maxm=out[0][i]\n",
    "            k=i\n",
    "    if(k==0):\n",
    "            print(\"Image is of letter A\")\n",
    "    elif(k==1):\n",
    "            print(\"Image is of letter B\")\n",
    "    else:\n",
    "            print(\"Image is of letter C\")\n",
    "    #visualise\n",
    "    plt.imshow(x.reshape(5,6))\n",
    "    plt.show()\n",
    "    "
   ]
  },
  {
   "cell_type": "code",
   "execution_count": 288,
   "id": "7b0b2b4f-f11b-4b36-9ffc-48962ec14354",
   "metadata": {},
   "outputs": [
    {
     "name": "stdout",
     "output_type": "stream",
     "text": [
      "[[ 2.21035946 -0.14033378  0.33397802 -0.82181063  0.38175507]\n",
      " [ 0.50620305 -1.85703734 -1.90138614 -1.65745328  0.851333  ]\n",
      " [ 1.16599228 -0.21160753  1.10302215 -1.37484001 -1.76065829]\n",
      " [-0.75352712  1.97631344 -0.71515925 -1.73422614  0.55070558]\n",
      " [ 0.51793004 -1.06340291  0.0828648  -2.14938847 -0.21857118]\n",
      " [ 1.18078395 -1.00020663  0.9904197  -1.5816937   0.75372385]\n",
      " [-0.48214231  0.07436756  0.1034226   0.50908067 -0.25662526]\n",
      " [ 0.99584648  1.26922135 -0.09200943  0.27928373  1.45323069]\n",
      " [-0.12570423 -1.5229221  -1.35738064 -0.70161577 -1.64067093]\n",
      " [ 1.76201465 -0.23727624  1.60624047  1.0254313   0.89588077]\n",
      " [-0.46493118  0.65604626  0.60905298  0.88009154 -1.31127737]\n",
      " [ 0.13322955 -0.78681544 -1.63956153 -0.77935605  0.25849067]\n",
      " [-1.03998231 -0.91833169  0.9162995   1.07593576 -0.23360571]\n",
      " [-1.77015903 -0.52972776 -0.65070949 -0.09028474  0.67396344]\n",
      " [ 0.01882538 -0.50005763  1.59056508 -1.12637937  0.57253483]\n",
      " [ 0.47435351  1.22930495 -1.70804583  0.80155452  0.9715202 ]\n",
      " [-0.46747988  0.85576054 -0.31858578 -0.46890684 -0.01328612]\n",
      " [ 1.31944661  0.43436304  1.89228927  0.16544651  0.39468673]\n",
      " [ 0.98837294 -0.01834298  1.15325776 -0.30972218 -0.8376647 ]\n",
      " [ 0.85219531 -1.98829588 -0.53652668  0.7443147  -0.44772545]\n",
      " [ 1.51541752  1.23395087  0.33269656 -1.37414793  0.4238042 ]\n",
      " [ 0.77804639 -0.51564942  0.62305895 -0.45999494  0.42431623]\n",
      " [ 1.29791336  0.21822009  0.79320803  0.68991394  0.00630686]\n",
      " [-2.23518619 -1.37949369  1.44419174  0.64116303 -2.35345403]\n",
      " [ 0.51718921 -0.25170465 -0.57704224  0.17717441  0.69881469]\n",
      " [ 0.70712681 -0.97599773 -0.83326788 -1.16468182 -0.99644363]\n",
      " [ 1.22888689 -1.58219791  0.77276403  1.30666414  1.0325142 ]\n",
      " [-0.4262022   0.22679334 -0.42883439  1.43962419  0.05962933]\n",
      " [ 1.07473074 -0.44119562 -0.25779439  1.14022519 -0.50866377]\n",
      " [ 0.10871058  0.18235201  1.0897397   0.72112673 -0.45792378]] \n",
      " [[ 0.7502961  -1.10767989 -1.04310875]\n",
      " [ 0.17035586 -0.66437773 -1.28890579]\n",
      " [ 0.03059586 -1.85011071  0.57268151]\n",
      " [ 0.75371328 -0.34414408 -1.31621667]\n",
      " [ 1.05119912  1.11351209 -0.29751643]]\n"
     ]
    }
   ],
   "source": [
    "#initializing the weights\n",
    "w1=generate_wt(30,5)\n",
    "w2=generate_wt(5,3)\n",
    "print(w1,\"\\n\",w2)"
   ]
  },
  {
   "cell_type": "code",
   "execution_count": 290,
   "id": "7c166ed7-3b36-44d5-8d50-88add598eaf3",
   "metadata": {},
   "outputs": [
    {
     "name": "stdout",
     "output_type": "stream",
     "text": [
      "Epochs: 1 acc 70.83556999292824\n",
      "Epochs: 2 acc 72.82379889150646\n",
      "Epochs: 3 acc 74.71111957823591\n",
      "Epochs: 4 acc 76.40982653542943\n",
      "Epochs: 5 acc 77.90370373970677\n",
      "Epochs: 6 acc 79.2183927786222\n",
      "Epochs: 7 acc 80.3903140859586\n",
      "Epochs: 8 acc 81.45219247480388\n",
      "Epochs: 9 acc 82.42970750732238\n",
      "Epochs: 10 acc 83.34198120370334\n",
      "Epochs: 11 acc 84.20265704611661\n",
      "Epochs: 12 acc 85.02077323497517\n",
      "Epochs: 13 acc 85.80148260619073\n",
      "Epochs: 14 acc 86.54683120860076\n",
      "Epochs: 15 acc 87.25670827324628\n",
      "Epochs: 16 acc 87.92990233552597\n",
      "Epochs: 17 acc 88.56507038418313\n",
      "Epochs: 18 acc 89.16142873180178\n",
      "Epochs: 19 acc 89.71908557305596\n",
      "Epochs: 20 acc 90.23906359097677\n",
      "Epochs: 21 acc 90.72313072085936\n",
      "Epochs: 22 acc 91.17355732183412\n",
      "Epochs: 23 acc 91.59288042877985\n",
      "Epochs: 24 acc 91.98371403637556\n",
      "Epochs: 25 acc 92.34861488599502\n",
      "Epochs: 26 acc 92.68999785667381\n",
      "Epochs: 27 acc 93.01008963758343\n",
      "Epochs: 28 acc 93.31090924953669\n",
      "Epochs: 29 acc 93.59426600803845\n",
      "Epochs: 30 acc 93.86176797920275\n",
      "Epochs: 31 acc 94.11483614713438\n",
      "Epochs: 32 acc 94.35472117948738\n",
      "Epochs: 33 acc 94.5825208669561\n",
      "Epochs: 34 acc 94.79919711808628\n",
      "Epochs: 35 acc 95.00559191603182\n",
      "Epochs: 36 acc 95.20244197445747\n",
      "Epochs: 37 acc 95.39039202934416\n",
      "Epochs: 38 acc 95.57000681632046\n",
      "Epochs: 39 acc 95.74178183912703\n",
      "Epochs: 40 acc 95.90615305370277\n",
      "Epochs: 41 acc 96.06350558751498\n",
      "Epochs: 42 acc 96.2141815946024\n",
      "Epochs: 43 acc 96.35848732058699\n",
      "Epochs: 44 acc 96.49669942452198\n",
      "Epochs: 45 acc 96.62907058072902\n",
      "Epochs: 46 acc 96.75583436743703\n",
      "Epochs: 47 acc 96.87720944231572\n",
      "Epochs: 48 acc 96.99340300839981\n",
      "Epochs: 49 acc 97.10461358612235\n",
      "Epochs: 50 acc 97.21103312539047\n",
      "Epochs: 51 acc 97.31284851209601\n",
      "Epochs: 52 acc 97.41024254229133\n",
      "Epochs: 53 acc 97.50339445126713\n",
      "Epochs: 54 acc 97.592480091961\n",
      "Epochs: 55 acc 97.67767185694815\n",
      "Epochs: 56 acc 97.75913843147293\n",
      "Epochs: 57 acc 97.83704445323052\n",
      "Epochs: 58 acc 97.91155013998373\n",
      "Epochs: 59 acc 97.98281093063164\n",
      "Epochs: 60 acc 98.05097717069795\n",
      "Epochs: 61 acc 98.11619386050666\n",
      "Epochs: 62 acc 98.17860047414004\n",
      "Epochs: 63 acc 98.23833084975043\n",
      "Epochs: 64 acc 98.29551314671579\n",
      "Epochs: 65 acc 98.35026986209756\n",
      "Epochs: 66 acc 98.40271789741452\n",
      "Epochs: 67 acc 98.45296866643524\n",
      "Epochs: 68 acc 98.5011282351256\n",
      "Epochs: 69 acc 98.54729748575186\n",
      "Epochs: 70 acc 98.59157229820778\n",
      "Epochs: 71 acc 98.63404374274852\n",
      "Epochs: 72 acc 98.67479827937674\n",
      "Epochs: 73 acc 98.71391796008476\n",
      "Epochs: 74 acc 98.75148063098547\n",
      "Epochs: 75 acc 98.78756013206191\n",
      "Epochs: 76 acc 98.82222649283808\n",
      "Epochs: 77 acc 98.85554612273427\n",
      "Epochs: 78 acc 98.88758199523745\n",
      "Epochs: 79 acc 98.91839382530459\n",
      "Epochs: 80 acc 98.94803823963908\n",
      "Epochs: 81 acc 98.97656893965247\n",
      "Epochs: 82 acc 99.00403685705359\n",
      "Epochs: 83 acc 99.03049030210465\n",
      "Epochs: 84 acc 99.05597510465724\n",
      "Epochs: 85 acc 99.08053474813421\n",
      "Epochs: 86 acc 99.10421049666141\n",
      "Epochs: 87 acc 99.12704151557993\n",
      "Epochs: 88 acc 99.14906498558722\n",
      "Epochs: 89 acc 99.17031621076569\n",
      "Epochs: 90 acc 99.19082872076342\n",
      "Epochs: 91 acc 99.21063436739233\n",
      "Epochs: 92 acc 99.22976341590797\n",
      "Epochs: 93 acc 99.24824463123085\n",
      "Epochs: 94 acc 99.2661053593634\n",
      "Epochs: 95 acc 99.28337160424971\n",
      "Epochs: 96 acc 99.30006810031716\n",
      "Epochs: 97 acc 99.31621838093047\n",
      "Epochs: 98 acc 99.33184484297946\n",
      "Epochs: 99 acc 99.34696880781303\n",
      "Epochs: 100 acc 99.36161057872141\n"
     ]
    }
   ],
   "source": [
    "acc,loss,w1,w2=train(x,y,w1,w2,0.1,100)"
   ]
  },
  {
   "cell_type": "code",
   "execution_count": 292,
   "id": "639080b3-c79f-4f32-8f27-3ac04af3add2",
   "metadata": {},
   "outputs": [
    {
     "data": {
      "image/png": "[encoded data removed]",
      "text/plain": [
       "<Figure size 640x480 with 1 Axes>"
      ]
     },
     "metadata": {},
     "output_type": "display_data"
    }
   ],
   "source": [
    "plt.plot(acc)\n",
    "plt.ylabel(\"Accuracy\")\n",
    "plt.xlabel(\"Epochs:\")\n",
    "plt.show()"
   ]
  },
  {
   "cell_type": "code",
   "execution_count": 294,
   "id": "e2787e9d-499e-4600-b89b-44b7633b4a26",
   "metadata": {},
   "outputs": [
    {
     "data": {
      "image/png": "[encoded data removed]",
      "text/plain": [
       "<Figure size 640x480 with 1 Axes>"
      ]
     },
     "metadata": {},
     "output_type": "display_data"
    }
   ],
   "source": [
    "# plot loss\n",
    "plt.plot(loss)\n",
    "plt.ylabel(\"loss\")\n",
    "plt.xlabel(\"Epochs\")\n",
    "plt.show()"
   ]
  },
  {
   "cell_type": "code",
   "execution_count": 296,
   "id": "1d78a09b-1264-437a-9b42-8f3f5eb72bd0",
   "metadata": {},
   "outputs": [
    {
     "name": "stdout",
     "output_type": "stream",
     "text": [
      "[[ 2.21035946 -0.14033378  0.33397802 -0.82181063  0.38175507]\n",
      " [ 0.53439536 -1.86448493 -1.66706699 -1.67503199  0.75584692]\n",
      " [ 1.05257797 -0.12854023  1.33818901 -1.0994316  -1.95749894]\n",
      " [-0.86694144  2.05938075 -0.47999239 -1.45881772  0.35386494]\n",
      " [ 0.54612236 -1.0708505   0.31718395 -2.16696717 -0.31405726]\n",
      " [ 1.18912492 -1.0172885   1.86064896 -1.76464674 -0.03532178]\n",
      " [-0.48214231  0.07436756  0.1034226   0.50908067 -0.25662526]\n",
      " [ 0.88243217  1.35228866  0.14315743  0.55469215  1.25639004]\n",
      " [-0.12570423 -1.5229221  -1.35738064 -0.70161577 -1.64067093]\n",
      " [ 1.76201465 -0.23727624  1.60624047  1.0254313   0.89588077]\n",
      " [-0.58668647  0.75619543 -0.02600941  1.338453   -0.71907239]\n",
      " [ 0.13322955 -0.78681544 -1.63956153 -0.77935605  0.25849067]\n",
      " [-1.18158894 -0.8278168   0.91714722  1.36892288 -0.33496028]\n",
      " [-1.88357335 -0.44666045 -0.41554262  0.18512368  0.4771228 ]\n",
      " [-0.10292991 -0.39990846  0.95550269 -0.66801792  1.16473982]\n",
      " [ 0.35259822  1.32945413 -2.34310822  1.25991597  1.56372519]\n",
      " [-0.58923517  0.95590971 -0.95364817 -0.01054539  0.57891887]\n",
      " [ 1.17783998  0.52487793  1.89313699  0.45843362  0.29333217]\n",
      " [ 0.84676631  0.07217191  1.15410548 -0.01673506 -0.93901926]\n",
      " [ 0.88038763 -1.99574347 -0.30220753  0.726736   -0.54321153]\n",
      " [ 1.51541752  1.23395087  0.33269656 -1.37414793  0.4238042 ]\n",
      " [ 0.77804639 -0.51564942  0.62305895 -0.45999494  0.42431623]\n",
      " [ 1.31776471  0.22785437  0.15729792  0.85528828  0.69986641]\n",
      " [-2.37679282 -1.28897879  1.44503946  0.93415014 -2.4548086 ]\n",
      " [ 0.37558258 -0.16118976 -0.57619452  0.47016153  0.59746013]\n",
      " [ 0.73531913 -0.98344531 -0.59894874 -1.18226053 -1.0919297 ]\n",
      " [ 1.25707921 -1.5896455   1.00708317  1.28908544  0.93702812]\n",
      " [-0.39800989  0.21934575 -0.19451524  1.42204549 -0.03585674]\n",
      " [ 1.10292305 -0.44864321 -0.02347524  1.12264649 -0.60414985]\n",
      " [-0.02455508  0.25578504  1.96081668  0.83116081 -1.34832397]] \n",
      " [[-2.94226841  0.08557315  0.21558008]\n",
      " [ 1.40400336 -0.88656279 -2.26105657]\n",
      " [ 0.14484577 -3.08609558  1.94888485]\n",
      " [ 1.47056933 -0.13485821 -2.47960911]\n",
      " [-0.82435637  2.62752932 -1.03902107]]\n"
     ]
    }
   ],
   "source": [
    "print(w1,\"\\n\",w2)"
   ]
  },
  {
   "cell_type": "code",
   "execution_count": 298,
   "id": "d081bbe1-3100-42e9-8f3e-db5b0e630100",
   "metadata": {},
   "outputs": [
    {
     "name": "stdout",
     "output_type": "stream",
     "text": [
      "Image is of letter C\n"
     ]
    },
    {
     "data": {
      "image/png": "[encoded data removed]",
      "text/plain": [
       "<Figure size 640x480 with 1 Axes>"
      ]
     },
     "metadata": {},
     "output_type": "display_data"
    }
   ],
   "source": [
    "predict(x[2],w1,w2)"
   ]
  },
  {
   "cell_type": "code",
   "execution_count": null,
   "id": "2c3d09f3-bc19-45ec-9483-39f9bb326d6e",
   "metadata": {},
   "outputs": [],
   "source": []
  }
 ],
 "metadata": {
  "kernelspec": {
   "display_name": "Python [conda env:base] *",
   "language": "python",
   "name": "conda-base-py"
  },
  "language_info": {
   "codemirror_mode": {
    "name": "ipython",
    "version": 3
   },
   "file_extension": ".py",
   "mimetype": "text/x-python",
   "name": "python",
   "nbconvert_exporter": "python",
   "pygments_lexer": "ipython3",
   "version": "3.12.7"
  }
 },
 "nbformat": 4,
 "nbformat_minor": 5
}
